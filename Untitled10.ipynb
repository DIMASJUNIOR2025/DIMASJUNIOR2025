{
  "nbformat": 4,
  "nbformat_minor": 0,
  "metadata": {
    "colab": {
      "provenance": [],
      "authorship_tag": "ABX9TyNu/+QsfuFmiShKzioYIJoZ",
      "include_colab_link": true
    },
    "kernelspec": {
      "name": "python3",
      "display_name": "Python 3"
    },
    "language_info": {
      "name": "python"
    }
  },
  "cells": [
    {
      "cell_type": "markdown",
      "metadata": {
        "id": "view-in-github",
        "colab_type": "text"
      },
      "source": [
        "<a href=\"https://colab.research.google.com/github/DIMASJUNIOR2025/DIMASJUNIOR2025/blob/main/Untitled10.ipynb\" target=\"_parent\"><img src=\"https://colab.research.google.com/assets/colab-badge.svg\" alt=\"Open In Colab\"/></a>"
      ]
    },
    {
      "cell_type": "code",
      "execution_count": 25,
      "metadata": {
        "id": "aE7L8G5MGegz"
      },
      "outputs": [],
      "source": []
    },
    {
      "source": [
        "import calendar\n",
        "from datetime import date, timedelta"
      ],
      "cell_type": "code",
      "metadata": {
        "id": "G78kbDOjJcmr"
      },
      "execution_count": 26,
      "outputs": []
    },
    {
      "source": [
        "def criar_agenda(ano):\n",
        "  \"\"\"Cria uma agenda para o ano especificado.\n",
        "\n",
        "  Args:\n",
        "    ano: O ano para o qual criar a agenda.\n",
        "\n",
        "  Returns:\n",
        "    Uma string contendo a agenda.\n",
        "  \"\"\"\n",
        "\n",
        "  agenda = \"\"\n",
        "  for mes in range(1, 13):\n",
        "    agenda += f\"## {calendar.month_name[mes]} {ano}\\n\\n\"\n",
        "    agenda += \"| Dom | Seg | Ter | Qua | Qui | Sex | Sáb |\\n\"\n",
        "    agenda += \"|---|---|---|---|---|---|---|\\n\"\n",
        "\n",
        "    calendario_mes = calendar.monthcalendar(ano, mes)\n",
        "    for semana in calendario_mes:\n",
        "      linha = \"|\"\n",
        "      for dia in semana:\n",
        "        if dia == 0:\n",
        "          linha += \"   |\"\n",
        "        else:\n",
        "          linha += f\" {dia:2d} |\"\n",
        "      agenda += linha + \"\\n\"\n",
        "    agenda += \"\\n\"\n",
        "\n",
        "  return agenda"
      ],
      "cell_type": "code",
      "metadata": {
        "id": "FVZSWH3RJc9V"
      },
      "execution_count": 27,
      "outputs": []
    },
    {
      "cell_type": "markdown",
      "source": [],
      "metadata": {
        "id": "4qlk0zimKe0t"
      }
    },
    {
      "source": [
        "agenda_2025 = criar_agenda(2025)\n",
        "print(agenda_2025)"
      ],
      "cell_type": "code",
      "metadata": {
        "colab": {
          "base_uri": "https://localhost:8080/"
        },
        "id": "6HbtK2cFK-Zb",
        "outputId": "44d10d29-6389-4a77-fe83-81b1025f61b2"
      },
      "execution_count": 28,
      "outputs": [
        {
          "output_type": "stream",
          "name": "stdout",
          "text": [
            "## January 2025\n",
            "\n",
            "| Dom | Seg | Ter | Qua | Qui | Sex | Sáb |\n",
            "|---|---|---|---|---|---|---|\n",
            "|   |   |  1 |  2 |  3 |  4 |  5 |\n",
            "|  6 |  7 |  8 |  9 | 10 | 11 | 12 |\n",
            "| 13 | 14 | 15 | 16 | 17 | 18 | 19 |\n",
            "| 20 | 21 | 22 | 23 | 24 | 25 | 26 |\n",
            "| 27 | 28 | 29 | 30 | 31 |   |   |\n",
            "\n",
            "## February 2025\n",
            "\n",
            "| Dom | Seg | Ter | Qua | Qui | Sex | Sáb |\n",
            "|---|---|---|---|---|---|---|\n",
            "|   |   |   |   |   |  1 |  2 |\n",
            "|  3 |  4 |  5 |  6 |  7 |  8 |  9 |\n",
            "| 10 | 11 | 12 | 13 | 14 | 15 | 16 |\n",
            "| 17 | 18 | 19 | 20 | 21 | 22 | 23 |\n",
            "| 24 | 25 | 26 | 27 | 28 |   |   |\n",
            "\n",
            "## March 2025\n",
            "\n",
            "| Dom | Seg | Ter | Qua | Qui | Sex | Sáb |\n",
            "|---|---|---|---|---|---|---|\n",
            "|   |   |   |   |   |  1 |  2 |\n",
            "|  3 |  4 |  5 |  6 |  7 |  8 |  9 |\n",
            "| 10 | 11 | 12 | 13 | 14 | 15 | 16 |\n",
            "| 17 | 18 | 19 | 20 | 21 | 22 | 23 |\n",
            "| 24 | 25 | 26 | 27 | 28 | 29 | 30 |\n",
            "| 31 |   |   |   |   |   |   |\n",
            "\n",
            "## April 2025\n",
            "\n",
            "| Dom | Seg | Ter | Qua | Qui | Sex | Sáb |\n",
            "|---|---|---|---|---|---|---|\n",
            "|   |  1 |  2 |  3 |  4 |  5 |  6 |\n",
            "|  7 |  8 |  9 | 10 | 11 | 12 | 13 |\n",
            "| 14 | 15 | 16 | 17 | 18 | 19 | 20 |\n",
            "| 21 | 22 | 23 | 24 | 25 | 26 | 27 |\n",
            "| 28 | 29 | 30 |   |   |   |   |\n",
            "\n",
            "## May 2025\n",
            "\n",
            "| Dom | Seg | Ter | Qua | Qui | Sex | Sáb |\n",
            "|---|---|---|---|---|---|---|\n",
            "|   |   |   |  1 |  2 |  3 |  4 |\n",
            "|  5 |  6 |  7 |  8 |  9 | 10 | 11 |\n",
            "| 12 | 13 | 14 | 15 | 16 | 17 | 18 |\n",
            "| 19 | 20 | 21 | 22 | 23 | 24 | 25 |\n",
            "| 26 | 27 | 28 | 29 | 30 | 31 |   |\n",
            "\n",
            "## June 2025\n",
            "\n",
            "| Dom | Seg | Ter | Qua | Qui | Sex | Sáb |\n",
            "|---|---|---|---|---|---|---|\n",
            "|   |   |   |   |   |   |  1 |\n",
            "|  2 |  3 |  4 |  5 |  6 |  7 |  8 |\n",
            "|  9 | 10 | 11 | 12 | 13 | 14 | 15 |\n",
            "| 16 | 17 | 18 | 19 | 20 | 21 | 22 |\n",
            "| 23 | 24 | 25 | 26 | 27 | 28 | 29 |\n",
            "| 30 |   |   |   |   |   |   |\n",
            "\n",
            "## July 2025\n",
            "\n",
            "| Dom | Seg | Ter | Qua | Qui | Sex | Sáb |\n",
            "|---|---|---|---|---|---|---|\n",
            "|   |  1 |  2 |  3 |  4 |  5 |  6 |\n",
            "|  7 |  8 |  9 | 10 | 11 | 12 | 13 |\n",
            "| 14 | 15 | 16 | 17 | 18 | 19 | 20 |\n",
            "| 21 | 22 | 23 | 24 | 25 | 26 | 27 |\n",
            "| 28 | 29 | 30 | 31 |   |   |   |\n",
            "\n",
            "## August 2025\n",
            "\n",
            "| Dom | Seg | Ter | Qua | Qui | Sex | Sáb |\n",
            "|---|---|---|---|---|---|---|\n",
            "|   |   |   |   |  1 |  2 |  3 |\n",
            "|  4 |  5 |  6 |  7 |  8 |  9 | 10 |\n",
            "| 11 | 12 | 13 | 14 | 15 | 16 | 17 |\n",
            "| 18 | 19 | 20 | 21 | 22 | 23 | 24 |\n",
            "| 25 | 26 | 27 | 28 | 29 | 30 | 31 |\n",
            "\n",
            "## September 2025\n",
            "\n",
            "| Dom | Seg | Ter | Qua | Qui | Sex | Sáb |\n",
            "|---|---|---|---|---|---|---|\n",
            "|  1 |  2 |  3 |  4 |  5 |  6 |  7 |\n",
            "|  8 |  9 | 10 | 11 | 12 | 13 | 14 |\n",
            "| 15 | 16 | 17 | 18 | 19 | 20 | 21 |\n",
            "| 22 | 23 | 24 | 25 | 26 | 27 | 28 |\n",
            "| 29 | 30 |   |   |   |   |   |\n",
            "\n",
            "## October 2025\n",
            "\n",
            "| Dom | Seg | Ter | Qua | Qui | Sex | Sáb |\n",
            "|---|---|---|---|---|---|---|\n",
            "|   |   |  1 |  2 |  3 |  4 |  5 |\n",
            "|  6 |  7 |  8 |  9 | 10 | 11 | 12 |\n",
            "| 13 | 14 | 15 | 16 | 17 | 18 | 19 |\n",
            "| 20 | 21 | 22 | 23 | 24 | 25 | 26 |\n",
            "| 27 | 28 | 29 | 30 | 31 |   |   |\n",
            "\n",
            "## November 2025\n",
            "\n",
            "| Dom | Seg | Ter | Qua | Qui | Sex | Sáb |\n",
            "|---|---|---|---|---|---|---|\n",
            "|   |   |   |   |   |  1 |  2 |\n",
            "|  3 |  4 |  5 |  6 |  7 |  8 |  9 |\n",
            "| 10 | 11 | 12 | 13 | 14 | 15 | 16 |\n",
            "| 17 | 18 | 19 | 20 | 21 | 22 | 23 |\n",
            "| 24 | 25 | 26 | 27 | 28 | 29 | 30 |\n",
            "\n",
            "## December 2025\n",
            "\n",
            "| Dom | Seg | Ter | Qua | Qui | Sex | Sáb |\n",
            "|---|---|---|---|---|---|---|\n",
            "|  1 |  2 |  3 |  4 |  5 |  6 |  7 |\n",
            "|  8 |  9 | 10 | 11 | 12 | 13 | 14 |\n",
            "| 15 | 16 | 17 | 18 | 19 | 20 | 21 |\n",
            "| 22 | 23 | 24 | 25 | 26 | 27 | 28 |\n",
            "| 29 | 30 | 31 |   |   |   |   |\n",
            "\n",
            "\n"
          ]
        }
      ]
    },
    {
      "source": [
        "with open(\"agenda_2025.txt\", \"w\", encoding=\"utf-8\") as f:\n",
        "  f.write(agenda_2025)"
      ],
      "cell_type": "code",
      "metadata": {
        "id": "JWnsk8VIK-wm"
      },
      "execution_count": 30,
      "outputs": []
    },
    {
      "cell_type": "code",
      "source": [],
      "metadata": {
        "id": "GGMANCsVKZRD"
      },
      "execution_count": 29,
      "outputs": []
    }
  ]
}