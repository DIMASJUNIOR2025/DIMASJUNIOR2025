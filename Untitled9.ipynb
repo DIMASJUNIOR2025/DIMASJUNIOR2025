{
  "nbformat": 4,
  "nbformat_minor": 0,
  "metadata": {
    "colab": {
      "provenance": [],
      "authorship_tag": "ABX9TyNRtsDCd6ejy0daee3hhQWu",
      "include_colab_link": true
    },
    "kernelspec": {
      "name": "python3",
      "display_name": "Python 3"
    },
    "language_info": {
      "name": "python"
    }
  },
  "cells": [
    {
      "cell_type": "markdown",
      "metadata": {
        "id": "view-in-github",
        "colab_type": "text"
      },
      "source": [
        "<a href=\"https://colab.research.google.com/github/DIMASJUNIOR2025/DIMASJUNIOR2025/blob/main/Untitled9.ipynb\" target=\"_parent\"><img src=\"https://colab.research.google.com/assets/colab-badge.svg\" alt=\"Open In Colab\"/></a>"
      ]
    },
    {
      "cell_type": "code",
      "execution_count": null,
      "metadata": {
        "id": "o-WB2O3Vna1_"
      },
      "outputs": [],
      "source": []
    },
    {
      "source": [
        "import calendar\n",
        "\n",
        "# Define o ano\n",
        "ano = 2025\n",
        "\n",
        "# Loop pelos meses\n",
        "for mes in range(1, 13):\n",
        "  # Cria um objeto Calendar\n",
        "  cal = calendar.monthcalendar(ano, mes)\n",
        "\n",
        "  # Imprime o cabeçalho do mês\n",
        "  print(calendar.month_name[mes], ano)\n",
        "  print(\"-\" * 20)\n",
        "\n",
        "  # Imprime os dias do mês\n",
        "  for semana in cal:\n",
        "    for dia in semana:\n",
        "      if dia == 0:\n",
        "        print(\"  \", end=\" \")\n",
        "      else:\n",
        "        print(\"{:2d}\".format(dia), end=\" \")\n",
        "    print()\n",
        "\n",
        "  print()  # Adiciona uma linha em branco entre os meses"
      ],
      "cell_type": "code",
      "metadata": {
        "colab": {
          "base_uri": "https://localhost:8080/"
        },
        "id": "OLE9dA9Un1S8",
        "outputId": "81d1bba6-cf01-4699-f31b-af101ab61493"
      },
      "execution_count": 1,
      "outputs": [
        {
          "output_type": "stream",
          "name": "stdout",
          "text": [
            "January 2025\n",
            "--------------------\n",
            "       1  2  3  4  5 \n",
            " 6  7  8  9 10 11 12 \n",
            "13 14 15 16 17 18 19 \n",
            "20 21 22 23 24 25 26 \n",
            "27 28 29 30 31       \n",
            "\n",
            "February 2025\n",
            "--------------------\n",
            "                1  2 \n",
            " 3  4  5  6  7  8  9 \n",
            "10 11 12 13 14 15 16 \n",
            "17 18 19 20 21 22 23 \n",
            "24 25 26 27 28       \n",
            "\n",
            "March 2025\n",
            "--------------------\n",
            "                1  2 \n",
            " 3  4  5  6  7  8  9 \n",
            "10 11 12 13 14 15 16 \n",
            "17 18 19 20 21 22 23 \n",
            "24 25 26 27 28 29 30 \n",
            "31                   \n",
            "\n",
            "April 2025\n",
            "--------------------\n",
            "    1  2  3  4  5  6 \n",
            " 7  8  9 10 11 12 13 \n",
            "14 15 16 17 18 19 20 \n",
            "21 22 23 24 25 26 27 \n",
            "28 29 30             \n",
            "\n",
            "May 2025\n",
            "--------------------\n",
            "          1  2  3  4 \n",
            " 5  6  7  8  9 10 11 \n",
            "12 13 14 15 16 17 18 \n",
            "19 20 21 22 23 24 25 \n",
            "26 27 28 29 30 31    \n",
            "\n",
            "June 2025\n",
            "--------------------\n",
            "                   1 \n",
            " 2  3  4  5  6  7  8 \n",
            " 9 10 11 12 13 14 15 \n",
            "16 17 18 19 20 21 22 \n",
            "23 24 25 26 27 28 29 \n",
            "30                   \n",
            "\n",
            "July 2025\n",
            "--------------------\n",
            "    1  2  3  4  5  6 \n",
            " 7  8  9 10 11 12 13 \n",
            "14 15 16 17 18 19 20 \n",
            "21 22 23 24 25 26 27 \n",
            "28 29 30 31          \n",
            "\n",
            "August 2025\n",
            "--------------------\n",
            "             1  2  3 \n",
            " 4  5  6  7  8  9 10 \n",
            "11 12 13 14 15 16 17 \n",
            "18 19 20 21 22 23 24 \n",
            "25 26 27 28 29 30 31 \n",
            "\n",
            "September 2025\n",
            "--------------------\n",
            " 1  2  3  4  5  6  7 \n",
            " 8  9 10 11 12 13 14 \n",
            "15 16 17 18 19 20 21 \n",
            "22 23 24 25 26 27 28 \n",
            "29 30                \n",
            "\n",
            "October 2025\n",
            "--------------------\n",
            "       1  2  3  4  5 \n",
            " 6  7  8  9 10 11 12 \n",
            "13 14 15 16 17 18 19 \n",
            "20 21 22 23 24 25 26 \n",
            "27 28 29 30 31       \n",
            "\n",
            "November 2025\n",
            "--------------------\n",
            "                1  2 \n",
            " 3  4  5  6  7  8  9 \n",
            "10 11 12 13 14 15 16 \n",
            "17 18 19 20 21 22 23 \n",
            "24 25 26 27 28 29 30 \n",
            "\n",
            "December 2025\n",
            "--------------------\n",
            " 1  2  3  4  5  6  7 \n",
            " 8  9 10 11 12 13 14 \n",
            "15 16 17 18 19 20 21 \n",
            "22 23 24 25 26 27 28 \n",
            "29 30 31             \n",
            "\n"
          ]
        }
      ]
    },
    {
      "source": [
        "from IPython.display import HTML, display\n",
        "\n",
        "import calendar\n",
        "\n",
        "# Define o ano\n",
        "ano = 2025\n",
        "\n",
        "# Define os feriados (formato: 'MM-DD')\n",
        "feriados = ['01-01', '04-21', '05-01', '09-07', '10-12', '11-15', '12-25']\n",
        "\n",
        "# Loop pelos meses\n",
        "for mes in range(1, 13):\n",
        "  # Cria um objeto Calendar\n",
        "  cal = calendar.monthcalendar(ano, mes)\n",
        "\n",
        "  # Imprime o cabeçalho do mês\n",
        "  display(HTML(f'<h2>{calendar.month_name[mes]} {ano}</h2>'))\n",
        "  display(HTML('<hr>'))\n",
        "\n",
        "  # Imprime os dias do mês\n",
        "  html = '<table><tr>'\n",
        "  for dia_semana in ['Seg', 'Ter', 'Qua', 'Qui', 'Sex', 'Sab', 'Dom']:\n",
        "    html += f'<th>{dia_semana}</th>'\n",
        "  html += '</tr>'\n",
        "\n",
        "  for semana in cal:\n",
        "    html += '<tr>'\n",
        "    for dia in semana:\n",
        "      if dia == 0:\n",
        "        html += '<td></td>'\n",
        "      else:\n",
        "        data = f'{mes:02}-{dia:02}'\n",
        "        cor = 'red' if (calendar.weekday(ano, mes, dia) == 6 or data in feriados) else 'black'\n",
        "        html += f'<td style=\"color: {cor};\">{dia}</td>'\n",
        "    html += '</tr>'\n",
        "\n",
        "  html += '</table>'\n",
        "  display(HTML(html))"
      ],
      "cell_type": "code",
      "metadata": {
        "colab": {
          "base_uri": "https://localhost:8080/",
          "height": 1000
        },
        "id": "HdSh8BIKoiYE",
        "outputId": "65806cee-e836-40c0-eda8-83135d00599f"
      },
      "execution_count": 2,
      "outputs": [
        {
          "output_type": "display_data",
          "data": {
            "text/plain": [
              "<IPython.core.display.HTML object>"
            ],
            "text/html": [
              "<h2>January 2025</h2>"
            ]
          },
          "metadata": {}
        },
        {
          "output_type": "display_data",
          "data": {
            "text/plain": [
              "<IPython.core.display.HTML object>"
            ],
            "text/html": [
              "<hr>"
            ]
          },
          "metadata": {}
        },
        {
          "output_type": "display_data",
          "data": {
            "text/plain": [
              "<IPython.core.display.HTML object>"
            ],
            "text/html": [
              "<table><tr><th>Seg</th><th>Ter</th><th>Qua</th><th>Qui</th><th>Sex</th><th>Sab</th><th>Dom</th></tr><tr><td></td><td></td><td style=\"color: red;\">1</td><td style=\"color: black;\">2</td><td style=\"color: black;\">3</td><td style=\"color: black;\">4</td><td style=\"color: red;\">5</td></tr><tr><td style=\"color: black;\">6</td><td style=\"color: black;\">7</td><td style=\"color: black;\">8</td><td style=\"color: black;\">9</td><td style=\"color: black;\">10</td><td style=\"color: black;\">11</td><td style=\"color: red;\">12</td></tr><tr><td style=\"color: black;\">13</td><td style=\"color: black;\">14</td><td style=\"color: black;\">15</td><td style=\"color: black;\">16</td><td style=\"color: black;\">17</td><td style=\"color: black;\">18</td><td style=\"color: red;\">19</td></tr><tr><td style=\"color: black;\">20</td><td style=\"color: black;\">21</td><td style=\"color: black;\">22</td><td style=\"color: black;\">23</td><td style=\"color: black;\">24</td><td style=\"color: black;\">25</td><td style=\"color: red;\">26</td></tr><tr><td style=\"color: black;\">27</td><td style=\"color: black;\">28</td><td style=\"color: black;\">29</td><td style=\"color: black;\">30</td><td style=\"color: black;\">31</td><td></td><td></td></tr></table>"
            ]
          },
          "metadata": {}
        },
        {
          "output_type": "display_data",
          "data": {
            "text/plain": [
              "<IPython.core.display.HTML object>"
            ],
            "text/html": [
              "<h2>February 2025</h2>"
            ]
          },
          "metadata": {}
        },
        {
          "output_type": "display_data",
          "data": {
            "text/plain": [
              "<IPython.core.display.HTML object>"
            ],
            "text/html": [
              "<hr>"
            ]
          },
          "metadata": {}
        },
        {
          "output_type": "display_data",
          "data": {
            "text/plain": [
              "<IPython.core.display.HTML object>"
            ],
            "text/html": [
              "<table><tr><th>Seg</th><th>Ter</th><th>Qua</th><th>Qui</th><th>Sex</th><th>Sab</th><th>Dom</th></tr><tr><td></td><td></td><td></td><td></td><td></td><td style=\"color: black;\">1</td><td style=\"color: red;\">2</td></tr><tr><td style=\"color: black;\">3</td><td style=\"color: black;\">4</td><td style=\"color: black;\">5</td><td style=\"color: black;\">6</td><td style=\"color: black;\">7</td><td style=\"color: black;\">8</td><td style=\"color: red;\">9</td></tr><tr><td style=\"color: black;\">10</td><td style=\"color: black;\">11</td><td style=\"color: black;\">12</td><td style=\"color: black;\">13</td><td style=\"color: black;\">14</td><td style=\"color: black;\">15</td><td style=\"color: red;\">16</td></tr><tr><td style=\"color: black;\">17</td><td style=\"color: black;\">18</td><td style=\"color: black;\">19</td><td style=\"color: black;\">20</td><td style=\"color: black;\">21</td><td style=\"color: black;\">22</td><td style=\"color: red;\">23</td></tr><tr><td style=\"color: black;\">24</td><td style=\"color: black;\">25</td><td style=\"color: black;\">26</td><td style=\"color: black;\">27</td><td style=\"color: black;\">28</td><td></td><td></td></tr></table>"
            ]
          },
          "metadata": {}
        },
        {
          "output_type": "display_data",
          "data": {
            "text/plain": [
              "<IPython.core.display.HTML object>"
            ],
            "text/html": [
              "<h2>March 2025</h2>"
            ]
          },
          "metadata": {}
        },
        {
          "output_type": "display_data",
          "data": {
            "text/plain": [
              "<IPython.core.display.HTML object>"
            ],
            "text/html": [
              "<hr>"
            ]
          },
          "metadata": {}
        },
        {
          "output_type": "display_data",
          "data": {
            "text/plain": [
              "<IPython.core.display.HTML object>"
            ],
            "text/html": [
              "<table><tr><th>Seg</th><th>Ter</th><th>Qua</th><th>Qui</th><th>Sex</th><th>Sab</th><th>Dom</th></tr><tr><td></td><td></td><td></td><td></td><td></td><td style=\"color: black;\">1</td><td style=\"color: red;\">2</td></tr><tr><td style=\"color: black;\">3</td><td style=\"color: black;\">4</td><td style=\"color: black;\">5</td><td style=\"color: black;\">6</td><td style=\"color: black;\">7</td><td style=\"color: black;\">8</td><td style=\"color: red;\">9</td></tr><tr><td style=\"color: black;\">10</td><td style=\"color: black;\">11</td><td style=\"color: black;\">12</td><td style=\"color: black;\">13</td><td style=\"color: black;\">14</td><td style=\"color: black;\">15</td><td style=\"color: red;\">16</td></tr><tr><td style=\"color: black;\">17</td><td style=\"color: black;\">18</td><td style=\"color: black;\">19</td><td style=\"color: black;\">20</td><td style=\"color: black;\">21</td><td style=\"color: black;\">22</td><td style=\"color: red;\">23</td></tr><tr><td style=\"color: black;\">24</td><td style=\"color: black;\">25</td><td style=\"color: black;\">26</td><td style=\"color: black;\">27</td><td style=\"color: black;\">28</td><td style=\"color: black;\">29</td><td style=\"color: red;\">30</td></tr><tr><td style=\"color: black;\">31</td><td></td><td></td><td></td><td></td><td></td><td></td></tr></table>"
            ]
          },
          "metadata": {}
        },
        {
          "output_type": "display_data",
          "data": {
            "text/plain": [
              "<IPython.core.display.HTML object>"
            ],
            "text/html": [
              "<h2>April 2025</h2>"
            ]
          },
          "metadata": {}
        },
        {
          "output_type": "display_data",
          "data": {
            "text/plain": [
              "<IPython.core.display.HTML object>"
            ],
            "text/html": [
              "<hr>"
            ]
          },
          "metadata": {}
        },
        {
          "output_type": "display_data",
          "data": {
            "text/plain": [
              "<IPython.core.display.HTML object>"
            ],
            "text/html": [
              "<table><tr><th>Seg</th><th>Ter</th><th>Qua</th><th>Qui</th><th>Sex</th><th>Sab</th><th>Dom</th></tr><tr><td></td><td style=\"color: black;\">1</td><td style=\"color: black;\">2</td><td style=\"color: black;\">3</td><td style=\"color: black;\">4</td><td style=\"color: black;\">5</td><td style=\"color: red;\">6</td></tr><tr><td style=\"color: black;\">7</td><td style=\"color: black;\">8</td><td style=\"color: black;\">9</td><td style=\"color: black;\">10</td><td style=\"color: black;\">11</td><td style=\"color: black;\">12</td><td style=\"color: red;\">13</td></tr><tr><td style=\"color: black;\">14</td><td style=\"color: black;\">15</td><td style=\"color: black;\">16</td><td style=\"color: black;\">17</td><td style=\"color: black;\">18</td><td style=\"color: black;\">19</td><td style=\"color: red;\">20</td></tr><tr><td style=\"color: red;\">21</td><td style=\"color: black;\">22</td><td style=\"color: black;\">23</td><td style=\"color: black;\">24</td><td style=\"color: black;\">25</td><td style=\"color: black;\">26</td><td style=\"color: red;\">27</td></tr><tr><td style=\"color: black;\">28</td><td style=\"color: black;\">29</td><td style=\"color: black;\">30</td><td></td><td></td><td></td><td></td></tr></table>"
            ]
          },
          "metadata": {}
        },
        {
          "output_type": "display_data",
          "data": {
            "text/plain": [
              "<IPython.core.display.HTML object>"
            ],
            "text/html": [
              "<h2>May 2025</h2>"
            ]
          },
          "metadata": {}
        },
        {
          "output_type": "display_data",
          "data": {
            "text/plain": [
              "<IPython.core.display.HTML object>"
            ],
            "text/html": [
              "<hr>"
            ]
          },
          "metadata": {}
        },
        {
          "output_type": "display_data",
          "data": {
            "text/plain": [
              "<IPython.core.display.HTML object>"
            ],
            "text/html": [
              "<table><tr><th>Seg</th><th>Ter</th><th>Qua</th><th>Qui</th><th>Sex</th><th>Sab</th><th>Dom</th></tr><tr><td></td><td></td><td></td><td style=\"color: red;\">1</td><td style=\"color: black;\">2</td><td style=\"color: black;\">3</td><td style=\"color: red;\">4</td></tr><tr><td style=\"color: black;\">5</td><td style=\"color: black;\">6</td><td style=\"color: black;\">7</td><td style=\"color: black;\">8</td><td style=\"color: black;\">9</td><td style=\"color: black;\">10</td><td style=\"color: red;\">11</td></tr><tr><td style=\"color: black;\">12</td><td style=\"color: black;\">13</td><td style=\"color: black;\">14</td><td style=\"color: black;\">15</td><td style=\"color: black;\">16</td><td style=\"color: black;\">17</td><td style=\"color: red;\">18</td></tr><tr><td style=\"color: black;\">19</td><td style=\"color: black;\">20</td><td style=\"color: black;\">21</td><td style=\"color: black;\">22</td><td style=\"color: black;\">23</td><td style=\"color: black;\">24</td><td style=\"color: red;\">25</td></tr><tr><td style=\"color: black;\">26</td><td style=\"color: black;\">27</td><td style=\"color: black;\">28</td><td style=\"color: black;\">29</td><td style=\"color: black;\">30</td><td style=\"color: black;\">31</td><td></td></tr></table>"
            ]
          },
          "metadata": {}
        },
        {
          "output_type": "display_data",
          "data": {
            "text/plain": [
              "<IPython.core.display.HTML object>"
            ],
            "text/html": [
              "<h2>June 2025</h2>"
            ]
          },
          "metadata": {}
        },
        {
          "output_type": "display_data",
          "data": {
            "text/plain": [
              "<IPython.core.display.HTML object>"
            ],
            "text/html": [
              "<hr>"
            ]
          },
          "metadata": {}
        },
        {
          "output_type": "display_data",
          "data": {
            "text/plain": [
              "<IPython.core.display.HTML object>"
            ],
            "text/html": [
              "<table><tr><th>Seg</th><th>Ter</th><th>Qua</th><th>Qui</th><th>Sex</th><th>Sab</th><th>Dom</th></tr><tr><td></td><td></td><td></td><td></td><td></td><td></td><td style=\"color: red;\">1</td></tr><tr><td style=\"color: black;\">2</td><td style=\"color: black;\">3</td><td style=\"color: black;\">4</td><td style=\"color: black;\">5</td><td style=\"color: black;\">6</td><td style=\"color: black;\">7</td><td style=\"color: red;\">8</td></tr><tr><td style=\"color: black;\">9</td><td style=\"color: black;\">10</td><td style=\"color: black;\">11</td><td style=\"color: black;\">12</td><td style=\"color: black;\">13</td><td style=\"color: black;\">14</td><td style=\"color: red;\">15</td></tr><tr><td style=\"color: black;\">16</td><td style=\"color: black;\">17</td><td style=\"color: black;\">18</td><td style=\"color: black;\">19</td><td style=\"color: black;\">20</td><td style=\"color: black;\">21</td><td style=\"color: red;\">22</td></tr><tr><td style=\"color: black;\">23</td><td style=\"color: black;\">24</td><td style=\"color: black;\">25</td><td style=\"color: black;\">26</td><td style=\"color: black;\">27</td><td style=\"color: black;\">28</td><td style=\"color: red;\">29</td></tr><tr><td style=\"color: black;\">30</td><td></td><td></td><td></td><td></td><td></td><td></td></tr></table>"
            ]
          },
          "metadata": {}
        },
        {
          "output_type": "display_data",
          "data": {
            "text/plain": [
              "<IPython.core.display.HTML object>"
            ],
            "text/html": [
              "<h2>July 2025</h2>"
            ]
          },
          "metadata": {}
        },
        {
          "output_type": "display_data",
          "data": {
            "text/plain": [
              "<IPython.core.display.HTML object>"
            ],
            "text/html": [
              "<hr>"
            ]
          },
          "metadata": {}
        },
        {
          "output_type": "display_data",
          "data": {
            "text/plain": [
              "<IPython.core.display.HTML object>"
            ],
            "text/html": [
              "<table><tr><th>Seg</th><th>Ter</th><th>Qua</th><th>Qui</th><th>Sex</th><th>Sab</th><th>Dom</th></tr><tr><td></td><td style=\"color: black;\">1</td><td style=\"color: black;\">2</td><td style=\"color: black;\">3</td><td style=\"color: black;\">4</td><td style=\"color: black;\">5</td><td style=\"color: red;\">6</td></tr><tr><td style=\"color: black;\">7</td><td style=\"color: black;\">8</td><td style=\"color: black;\">9</td><td style=\"color: black;\">10</td><td style=\"color: black;\">11</td><td style=\"color: black;\">12</td><td style=\"color: red;\">13</td></tr><tr><td style=\"color: black;\">14</td><td style=\"color: black;\">15</td><td style=\"color: black;\">16</td><td style=\"color: black;\">17</td><td style=\"color: black;\">18</td><td style=\"color: black;\">19</td><td style=\"color: red;\">20</td></tr><tr><td style=\"color: black;\">21</td><td style=\"color: black;\">22</td><td style=\"color: black;\">23</td><td style=\"color: black;\">24</td><td style=\"color: black;\">25</td><td style=\"color: black;\">26</td><td style=\"color: red;\">27</td></tr><tr><td style=\"color: black;\">28</td><td style=\"color: black;\">29</td><td style=\"color: black;\">30</td><td style=\"color: black;\">31</td><td></td><td></td><td></td></tr></table>"
            ]
          },
          "metadata": {}
        },
        {
          "output_type": "display_data",
          "data": {
            "text/plain": [
              "<IPython.core.display.HTML object>"
            ],
            "text/html": [
              "<h2>August 2025</h2>"
            ]
          },
          "metadata": {}
        },
        {
          "output_type": "display_data",
          "data": {
            "text/plain": [
              "<IPython.core.display.HTML object>"
            ],
            "text/html": [
              "<hr>"
            ]
          },
          "metadata": {}
        },
        {
          "output_type": "display_data",
          "data": {
            "text/plain": [
              "<IPython.core.display.HTML object>"
            ],
            "text/html": [
              "<table><tr><th>Seg</th><th>Ter</th><th>Qua</th><th>Qui</th><th>Sex</th><th>Sab</th><th>Dom</th></tr><tr><td></td><td></td><td></td><td></td><td style=\"color: black;\">1</td><td style=\"color: black;\">2</td><td style=\"color: red;\">3</td></tr><tr><td style=\"color: black;\">4</td><td style=\"color: black;\">5</td><td style=\"color: black;\">6</td><td style=\"color: black;\">7</td><td style=\"color: black;\">8</td><td style=\"color: black;\">9</td><td style=\"color: red;\">10</td></tr><tr><td style=\"color: black;\">11</td><td style=\"color: black;\">12</td><td style=\"color: black;\">13</td><td style=\"color: black;\">14</td><td style=\"color: black;\">15</td><td style=\"color: black;\">16</td><td style=\"color: red;\">17</td></tr><tr><td style=\"color: black;\">18</td><td style=\"color: black;\">19</td><td style=\"color: black;\">20</td><td style=\"color: black;\">21</td><td style=\"color: black;\">22</td><td style=\"color: black;\">23</td><td style=\"color: red;\">24</td></tr><tr><td style=\"color: black;\">25</td><td style=\"color: black;\">26</td><td style=\"color: black;\">27</td><td style=\"color: black;\">28</td><td style=\"color: black;\">29</td><td style=\"color: black;\">30</td><td style=\"color: red;\">31</td></tr></table>"
            ]
          },
          "metadata": {}
        },
        {
          "output_type": "display_data",
          "data": {
            "text/plain": [
              "<IPython.core.display.HTML object>"
            ],
            "text/html": [
              "<h2>September 2025</h2>"
            ]
          },
          "metadata": {}
        },
        {
          "output_type": "display_data",
          "data": {
            "text/plain": [
              "<IPython.core.display.HTML object>"
            ],
            "text/html": [
              "<hr>"
            ]
          },
          "metadata": {}
        },
        {
          "output_type": "display_data",
          "data": {
            "text/plain": [
              "<IPython.core.display.HTML object>"
            ],
            "text/html": [
              "<table><tr><th>Seg</th><th>Ter</th><th>Qua</th><th>Qui</th><th>Sex</th><th>Sab</th><th>Dom</th></tr><tr><td style=\"color: black;\">1</td><td style=\"color: black;\">2</td><td style=\"color: black;\">3</td><td style=\"color: black;\">4</td><td style=\"color: black;\">5</td><td style=\"color: black;\">6</td><td style=\"color: red;\">7</td></tr><tr><td style=\"color: black;\">8</td><td style=\"color: black;\">9</td><td style=\"color: black;\">10</td><td style=\"color: black;\">11</td><td style=\"color: black;\">12</td><td style=\"color: black;\">13</td><td style=\"color: red;\">14</td></tr><tr><td style=\"color: black;\">15</td><td style=\"color: black;\">16</td><td style=\"color: black;\">17</td><td style=\"color: black;\">18</td><td style=\"color: black;\">19</td><td style=\"color: black;\">20</td><td style=\"color: red;\">21</td></tr><tr><td style=\"color: black;\">22</td><td style=\"color: black;\">23</td><td style=\"color: black;\">24</td><td style=\"color: black;\">25</td><td style=\"color: black;\">26</td><td style=\"color: black;\">27</td><td style=\"color: red;\">28</td></tr><tr><td style=\"color: black;\">29</td><td style=\"color: black;\">30</td><td></td><td></td><td></td><td></td><td></td></tr></table>"
            ]
          },
          "metadata": {}
        },
        {
          "output_type": "display_data",
          "data": {
            "text/plain": [
              "<IPython.core.display.HTML object>"
            ],
            "text/html": [
              "<h2>October 2025</h2>"
            ]
          },
          "metadata": {}
        },
        {
          "output_type": "display_data",
          "data": {
            "text/plain": [
              "<IPython.core.display.HTML object>"
            ],
            "text/html": [
              "<hr>"
            ]
          },
          "metadata": {}
        },
        {
          "output_type": "display_data",
          "data": {
            "text/plain": [
              "<IPython.core.display.HTML object>"
            ],
            "text/html": [
              "<table><tr><th>Seg</th><th>Ter</th><th>Qua</th><th>Qui</th><th>Sex</th><th>Sab</th><th>Dom</th></tr><tr><td></td><td></td><td style=\"color: black;\">1</td><td style=\"color: black;\">2</td><td style=\"color: black;\">3</td><td style=\"color: black;\">4</td><td style=\"color: red;\">5</td></tr><tr><td style=\"color: black;\">6</td><td style=\"color: black;\">7</td><td style=\"color: black;\">8</td><td style=\"color: black;\">9</td><td style=\"color: black;\">10</td><td style=\"color: black;\">11</td><td style=\"color: red;\">12</td></tr><tr><td style=\"color: black;\">13</td><td style=\"color: black;\">14</td><td style=\"color: black;\">15</td><td style=\"color: black;\">16</td><td style=\"color: black;\">17</td><td style=\"color: black;\">18</td><td style=\"color: red;\">19</td></tr><tr><td style=\"color: black;\">20</td><td style=\"color: black;\">21</td><td style=\"color: black;\">22</td><td style=\"color: black;\">23</td><td style=\"color: black;\">24</td><td style=\"color: black;\">25</td><td style=\"color: red;\">26</td></tr><tr><td style=\"color: black;\">27</td><td style=\"color: black;\">28</td><td style=\"color: black;\">29</td><td style=\"color: black;\">30</td><td style=\"color: black;\">31</td><td></td><td></td></tr></table>"
            ]
          },
          "metadata": {}
        },
        {
          "output_type": "display_data",
          "data": {
            "text/plain": [
              "<IPython.core.display.HTML object>"
            ],
            "text/html": [
              "<h2>November 2025</h2>"
            ]
          },
          "metadata": {}
        },
        {
          "output_type": "display_data",
          "data": {
            "text/plain": [
              "<IPython.core.display.HTML object>"
            ],
            "text/html": [
              "<hr>"
            ]
          },
          "metadata": {}
        },
        {
          "output_type": "display_data",
          "data": {
            "text/plain": [
              "<IPython.core.display.HTML object>"
            ],
            "text/html": [
              "<table><tr><th>Seg</th><th>Ter</th><th>Qua</th><th>Qui</th><th>Sex</th><th>Sab</th><th>Dom</th></tr><tr><td></td><td></td><td></td><td></td><td></td><td style=\"color: black;\">1</td><td style=\"color: red;\">2</td></tr><tr><td style=\"color: black;\">3</td><td style=\"color: black;\">4</td><td style=\"color: black;\">5</td><td style=\"color: black;\">6</td><td style=\"color: black;\">7</td><td style=\"color: black;\">8</td><td style=\"color: red;\">9</td></tr><tr><td style=\"color: black;\">10</td><td style=\"color: black;\">11</td><td style=\"color: black;\">12</td><td style=\"color: black;\">13</td><td style=\"color: black;\">14</td><td style=\"color: red;\">15</td><td style=\"color: red;\">16</td></tr><tr><td style=\"color: black;\">17</td><td style=\"color: black;\">18</td><td style=\"color: black;\">19</td><td style=\"color: black;\">20</td><td style=\"color: black;\">21</td><td style=\"color: black;\">22</td><td style=\"color: red;\">23</td></tr><tr><td style=\"color: black;\">24</td><td style=\"color: black;\">25</td><td style=\"color: black;\">26</td><td style=\"color: black;\">27</td><td style=\"color: black;\">28</td><td style=\"color: black;\">29</td><td style=\"color: red;\">30</td></tr></table>"
            ]
          },
          "metadata": {}
        },
        {
          "output_type": "display_data",
          "data": {
            "text/plain": [
              "<IPython.core.display.HTML object>"
            ],
            "text/html": [
              "<h2>December 2025</h2>"
            ]
          },
          "metadata": {}
        },
        {
          "output_type": "display_data",
          "data": {
            "text/plain": [
              "<IPython.core.display.HTML object>"
            ],
            "text/html": [
              "<hr>"
            ]
          },
          "metadata": {}
        },
        {
          "output_type": "display_data",
          "data": {
            "text/plain": [
              "<IPython.core.display.HTML object>"
            ],
            "text/html": [
              "<table><tr><th>Seg</th><th>Ter</th><th>Qua</th><th>Qui</th><th>Sex</th><th>Sab</th><th>Dom</th></tr><tr><td style=\"color: black;\">1</td><td style=\"color: black;\">2</td><td style=\"color: black;\">3</td><td style=\"color: black;\">4</td><td style=\"color: black;\">5</td><td style=\"color: black;\">6</td><td style=\"color: red;\">7</td></tr><tr><td style=\"color: black;\">8</td><td style=\"color: black;\">9</td><td style=\"color: black;\">10</td><td style=\"color: black;\">11</td><td style=\"color: black;\">12</td><td style=\"color: black;\">13</td><td style=\"color: red;\">14</td></tr><tr><td style=\"color: black;\">15</td><td style=\"color: black;\">16</td><td style=\"color: black;\">17</td><td style=\"color: black;\">18</td><td style=\"color: black;\">19</td><td style=\"color: black;\">20</td><td style=\"color: red;\">21</td></tr><tr><td style=\"color: black;\">22</td><td style=\"color: black;\">23</td><td style=\"color: black;\">24</td><td style=\"color: red;\">25</td><td style=\"color: black;\">26</td><td style=\"color: black;\">27</td><td style=\"color: red;\">28</td></tr><tr><td style=\"color: black;\">29</td><td style=\"color: black;\">30</td><td style=\"color: black;\">31</td><td></td><td></td><td></td><td></td></tr></table>"
            ]
          },
          "metadata": {}
        }
      ]
    }
  ]
}